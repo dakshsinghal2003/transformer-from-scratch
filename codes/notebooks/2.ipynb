{
 "cells": [
  {
   "cell_type": "code",
   "execution_count": 1,
   "metadata": {},
   "outputs": [
    {
     "name": "stderr",
     "output_type": "stream",
     "text": [
      "d:\\Lectures\\pytorch\\venv\\Lib\\site-packages\\tqdm\\auto.py:21: TqdmWarning: IProgress not found. Please update jupyter and ipywidgets. See https://ipywidgets.readthedocs.io/en/stable/user_install.html\n",
      "  from .autonotebook import tqdm as notebook_tqdm\n"
     ]
    }
   ],
   "source": [
    "import tokenizers\n",
    "from tokenizers import Tokenizer\n",
    "from tokenizers.models import BPE\n",
    "from tokenizers.pre_tokenizers import Whitespace\n",
    "from tokenizers.trainers import WordLevelTrainer\n",
    "from datasets import load_from_disk,load_dataset\n",
    "from pathlib import Path"
   ]
  },
  {
   "cell_type": "code",
   "execution_count": 1,
   "metadata": {},
   "outputs": [
    {
     "name": "stderr",
     "output_type": "stream",
     "text": [
      "d:\\Lectures\\pytorch\\venv\\Lib\\site-packages\\tqdm\\auto.py:21: TqdmWarning: IProgress not found. Please update jupyter and ipywidgets. See https://ipywidgets.readthedocs.io/en/stable/user_install.html\n",
      "  from .autonotebook import tqdm as notebook_tqdm\n"
     ]
    }
   ],
   "source": [
    "from datasets import load_dataset,load_from_disk\n",
    "ds = load_from_disk(\"./hi_en-to-en/\")\n",
    "# ds = load_dataset(\"nateraw/english-to-hinglish\")"
   ]
  },
  {
   "cell_type": "code",
   "execution_count": 9,
   "metadata": {},
   "outputs": [
    {
     "name": "stdout",
     "output_type": "stream",
     "text": [
      "kya aas pas koi beer fest hai\n",
      "mujhe yaad dilao - Brian ka birthday is this wednesday\n"
     ]
    }
   ],
   "source": [
    "def get_all_sentences(ds, lang):\n",
    "    for train_test_split in ds.keys():\n",
    "        for item in ds[train_test_split]:\n",
    "            yield item[lang]\n",
    "\n",
    "iterator_ = get_all_sentences(ds = ds, lang = 'hi_ng') \n",
    "print(next(iterator_))\n",
    "print(next(iterator_))"
   ]
  },
  {
   "cell_type": "code",
   "execution_count": null,
   "metadata": {},
   "outputs": [
    {
     "data": {
      "text/plain": [
       "('train.tsv', <http.client.HTTPMessage at 0x27aa5826e10>)"
      ]
     },
     "execution_count": 7,
     "metadata": {},
     "output_type": "execute_result"
    }
   ],
   "source": []
  },
  {
   "cell_type": "code",
   "execution_count": null,
   "metadata": {},
   "outputs": [],
   "source": [
    "def get_all_sentneces_from_dataset(dataset,language):\n",
    "    for item in dataset:\n",
    "        yield item['translation'][language]\n",
    "\n",
    "\n",
    "\n",
    "def get_or_build_tokenizer(config,dataset,language):\n",
    "    tokenizer_path = Path(config['tokenizer_file'].format(language))\n",
    "    if not Path.exists(tokenizer_path):\n",
    "        tokenizer = Tokenizer(model=BPE(unk_token='[UNK]'))\n",
    "        tokenizer.pre_tokenizer = Whitespace() \n",
    "        trainer = WordLevelTrainer(special_tokens = ['[UNK]','[PAD]','[SOS]','[EOS]'], # type: ignore\n",
    "                                   min_frequency = 2) # type: ignore\n",
    "        tokenizer.train_from_iterator(get_all_sentneces_from_dataset(dataset,language))\n",
    "        tokenizer.save(str(tokenizer_path))\n",
    "    else:\n",
    "        tokenizer = Tokenizer.from_file(str(tokenizer_path))\n",
    "    return tokenizer\n",
    "\n",
    "            \n"
   ]
  },
  {
   "cell_type": "code",
   "execution_count": 21,
   "metadata": {},
   "outputs": [
    {
     "data": {
      "text/plain": [
       "tensor([ True,  True,  True,  True, False, False, False, False, False, False])"
      ]
     },
     "execution_count": 21,
     "metadata": {},
     "output_type": "execute_result"
    }
   ],
   "source": [
    "import torch\n",
    "x = torch.tensor(data = [1,2,3,4,5,5,5,5,5,5],dtype=torch.int64)\n",
    "y = torch.tensor(data = 5,dtype=torch.int64)\n",
    "(x!=y)#.unsqueeze(0).unsqueeze(0).int()"
   ]
  }
 ],
 "metadata": {
  "kernelspec": {
   "display_name": "venv",
   "language": "python",
   "name": "python3"
  },
  "language_info": {
   "codemirror_mode": {
    "name": "ipython",
    "version": 3
   },
   "file_extension": ".py",
   "mimetype": "text/x-python",
   "name": "python",
   "nbconvert_exporter": "python",
   "pygments_lexer": "ipython3",
   "version": "3.12.6"
  }
 },
 "nbformat": 4,
 "nbformat_minor": 2
}
